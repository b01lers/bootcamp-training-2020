{
 "cells": [
  {
   "cell_type": "code",
   "execution_count": 65,
   "metadata": {},
   "outputs": [
    {
     "name": "stdout",
     "output_type": "stream",
     "text": [
      "N: 21448737618661653729580947841131869256807284745746614085461536310813473294089\n",
      "e: 65537\n",
      "C: 3277147280913707511241338343946993460835181071601916058589154870917471285877\n"
     ]
    }
   ],
   "source": [
    "from sage.all import *\n",
    "from Crypto.Util.number import getPrime\n",
    "from Crypto.Util.number import bytes_to_long as btl\n",
    "from Crypto.Util.number import long_to_bytes as ltb\n",
    "m = btl(b'flag{primes!}')\n",
    "\n",
    "e = 0x10001 #65537\n",
    "\n",
    "while True:\n",
    "    p = getPrime(64)\n",
    "    q = getPrime(64)\n",
    "    r = getPrime(64)\n",
    "    s = getPrime(64)\n",
    "    phi = (p-1)*(q-1)*(r-1)*(s-1)\n",
    "    N = p*q*r*s\n",
    "    try:\n",
    "        assert N > m\n",
    "        assert gcd(e,phi) == 1 #coprime\n",
    "        d = inverse_mod(e,phi) \n",
    "        break\n",
    "    except:\n",
    "        pass\n",
    "c = pow(m,e,N)\n",
    "print(f'N: {N}\\ne: {e}\\nC: {c}')"
   ]
  },
  {
   "cell_type": "markdown",
   "metadata": {},
   "source": [
    "## Solution\n",
    "Since the modulus is composed of many primes that are not extremely large we attempt to factor here. Upon factoring into primes we can simply utilize the Euler totient and its multiplicative property to obtain $\\phi(N)$. $\\phi(N) = \\phi(p)\\; \\phi(q )\\; \\phi(r)\\; \\phi(s)$\n",
    "\n",
    "After obtaining $\\phi(N)$ we can caculate the private key as: $d \\equiv e^{-1}\\;(mod\\;\\phi(N))$"
   ]
  },
  {
   "cell_type": "code",
   "execution_count": 61,
   "metadata": {},
   "outputs": [
    {
     "name": "stdout",
     "output_type": "stream",
     "text": [
      "21602712032042702264691943072048358394680714435682058226957482128876926223425\n",
      "b'flag{primes!}'\n"
     ]
    }
   ],
   "source": [
    "factors = factor(N)\n",
    "factors = [i[0] ** i[1] for i in factors]\n",
    "phi = 1\n",
    "for fac in factors:\n",
    "    phi *= (fac-1)\n",
    "d = inverse_mod(e,phi)\n",
    "m = ltb(pow(c,d,N))\n",
    "print(m)"
   ]
  },
  {
   "cell_type": "markdown",
   "metadata": {},
   "source": []
  },
  {
   "cell_type": "code",
   "execution_count": null,
   "metadata": {},
   "outputs": [],
   "source": []
  },
  {
   "cell_type": "code",
   "execution_count": null,
   "metadata": {},
   "outputs": [],
   "source": []
  },
  {
   "cell_type": "code",
   "execution_count": null,
   "metadata": {},
   "outputs": [],
   "source": []
  }
 ],
 "metadata": {
  "kernelspec": {
   "display_name": "Python 3",
   "language": "python",
   "name": "python3"
  },
  "language_info": {
   "codemirror_mode": {
    "name": "ipython",
    "version": 3
   },
   "file_extension": ".py",
   "mimetype": "text/x-python",
   "name": "python",
   "nbconvert_exporter": "python",
   "pygments_lexer": "ipython3",
   "version": "3.7.3"
  }
 },
 "nbformat": 4,
 "nbformat_minor": 2
}
