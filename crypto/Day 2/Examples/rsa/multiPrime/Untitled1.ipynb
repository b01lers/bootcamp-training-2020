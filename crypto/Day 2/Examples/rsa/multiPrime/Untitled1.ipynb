{
 "cells": [
  {
   "cell_type": "code",
   "execution_count": 2,
   "metadata": {},
   "outputs": [
    {
     "name": "stdout",
     "output_type": "stream",
     "text": [
      "phi: 950659946443471188346881340896693281834922600000\n",
      "N: 950659947657322387757063315267001556562754941881\n",
      "e: 65537\n",
      "C: 359041426831967135966002815179006320320159481463\n"
     ]
    }
   ],
   "source": [
    "from sage.all import *\n",
    "from Crypto.Util.number import getPrime\n",
    "from Crypto.Util.number import bytes_to_long as btl\n",
    "from Crypto.Util.number import long_to_bytes as ltb\n",
    "m = btl(b'flag{so_many_primes}')\n",
    "\n",
    "p = getPrime(32)\n",
    "q = getPrime(32)\n",
    "r = getPrime(32)\n",
    "s = getPrime(32)\n",
    "t = getPrime(32)\n",
    "\n",
    "N = p*q*r*s*t\n",
    "factors = [p,q,r,s,t]\n",
    "phi = 1\n",
    "for fac in factors:\n",
    "    phi *= (fac-1)\n",
    "    \n",
    "print(f'phi: {phi}')\n",
    "\n",
    "e = 0x10001 #65537\n",
    "assert gcd(e,phi) == 1\n",
    "d = inverse_mod(e,phi)\n",
    "c = pow(m,e,N)\n",
    "print(f'N: {N}\\ne: {e}\\nC: {c}')"
   ]
  },
  {
   "cell_type": "markdown",
   "metadata": {},
   "source": [
    "## Attack\n",
    "\n",
    "Being told the modulus is composed of many small primes, we can attempt to factor through sage for these primes.\n",
    "\n",
    "Upon obtaining them, we use the property that the fucntion, $\\phi ()$ is multiplicative."
   ]
  },
  {
   "cell_type": "code",
   "execution_count": 4,
   "metadata": {},
   "outputs": [
    {
     "name": "stdout",
     "output_type": "stream",
     "text": [
      "b'flag{so_many_primes}'\n"
     ]
    }
   ],
   "source": [
    "#copy N,e,c from first block to check\n",
    "N =  950659947657322387757063315267001556562754941881\n",
    "e =  65537\n",
    "c = 359041426831967135966002815179006320320159481463\n",
    "\n",
    "factors = factor(N)\n",
    "factors = [i[0] ** i[1] for i in factors]\n",
    "phi = 1\n",
    "for fac in factors:\n",
    "    phi *= (fac-1)\n",
    "\n",
    "d = inverse_mod(e,phi)\n",
    "m = ltb(pow(c,d,N))\n",
    "print(m)"
   ]
  },
  {
   "cell_type": "code",
   "execution_count": null,
   "metadata": {},
   "outputs": [],
   "source": []
  },
  {
   "cell_type": "code",
   "execution_count": null,
   "metadata": {},
   "outputs": [],
   "source": []
  }
 ],
 "metadata": {
  "kernelspec": {
   "display_name": "Python 3",
   "language": "python",
   "name": "python3"
  },
  "language_info": {
   "codemirror_mode": {
    "name": "ipython",
    "version": 3
   },
   "file_extension": ".py",
   "mimetype": "text/x-python",
   "name": "python",
   "nbconvert_exporter": "python",
   "pygments_lexer": "ipython3",
   "version": "3.7.3"
  }
 },
 "nbformat": 4,
 "nbformat_minor": 2
}
