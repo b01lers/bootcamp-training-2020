{
 "cells": [
  {
   "cell_type": "code",
   "execution_count": 10,
   "metadata": {},
   "outputs": [],
   "source": [
    "from Crypto.Util.number import getPrime, inverse\n",
    "from math import gcd\n",
    "p = getPrime(512)\n",
    "q = getPrime(512)\n",
    "\n",
    "e = 0x10001\n",
    "#why e is prime\n",
    "\n",
    "n = p*q\n",
    "assert gcd((p-1)*(q-1),e) == 1\n",
    "#why e,phi need to be coprime\n",
    "\n",
    "d = inverse(e,(p-1)*(q-1))\n",
    "#why private key is the modular inverse of e\n"
   ]
  },
  {
   "cell_type": "code",
   "execution_count": 11,
   "metadata": {},
   "outputs": [],
   "source": [
    "from Crypto.Util.number import bytes_to_long as btl\n",
    "#why m should be less than n\n",
    "m = btl(b'hello,there')\n",
    "assert m < n"
   ]
  },
  {
   "cell_type": "code",
   "execution_count": 12,
   "metadata": {},
   "outputs": [
    {
     "name": "stdout",
     "output_type": "stream",
     "text": [
      "77537439208102052917286642301352568343127354254898199314264719609251952346889193341333251932731095846299281598520690107315391053200495779912769306628771748638485486728758658473974734818680096997611814002499860980424690379780565058937903481364128856100549851051468516240872466753542560631894247338764620198196\n"
     ]
    }
   ],
   "source": [
    "#Encrypting our message\n",
    "c = pow(m,e,n)\n",
    "print(c)"
   ]
  },
  {
   "cell_type": "code",
   "execution_count": 13,
   "metadata": {},
   "outputs": [
    {
     "name": "stdout",
     "output_type": "stream",
     "text": [
      "126207244316563985958007397\n"
     ]
    }
   ],
   "source": [
    "decrypted_message = pow(c,d,n)\n",
    "print(decrypted_message)\n",
    "assert decrypted_message == m"
   ]
  },
  {
   "cell_type": "code",
   "execution_count": 14,
   "metadata": {},
   "outputs": [
    {
     "name": "stdout",
     "output_type": "stream",
     "text": [
      "b'hello,there'\n"
     ]
    }
   ],
   "source": [
    "from Crypto.Util.number import long_to_bytes as ltb\n",
    "print(ltb(decrypted_message))"
   ]
  },
  {
   "cell_type": "code",
   "execution_count": null,
   "metadata": {},
   "outputs": [],
   "source": []
  },
  {
   "cell_type": "code",
   "execution_count": null,
   "metadata": {},
   "outputs": [],
   "source": []
  }
 ],
 "metadata": {
  "kernelspec": {
   "display_name": "Python 3",
   "language": "python",
   "name": "python3"
  },
  "language_info": {
   "codemirror_mode": {
    "name": "ipython",
    "version": 3
   },
   "file_extension": ".py",
   "mimetype": "text/x-python",
   "name": "python",
   "nbconvert_exporter": "python",
   "pygments_lexer": "ipython3",
   "version": "3.7.3"
  }
 },
 "nbformat": 4,
 "nbformat_minor": 2
}
