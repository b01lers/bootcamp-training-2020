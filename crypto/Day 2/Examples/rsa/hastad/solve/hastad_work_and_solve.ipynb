{
 "cells": [
  {
   "cell_type": "code",
   "execution_count": 19,
   "metadata": {},
   "outputs": [],
   "source": [
    "from Crypto.Util.number import getPrime, inverse\n",
    "\n",
    "moduli = []\n",
    "for _ in range(3):\n",
    "    p = getPrime(128)\n",
    "    q = getPrime(128)\n",
    "    N = p*q\n",
    "    moduli.append(N)\n",
    "\n",
    "e = 3\n",
    "#d = inverse(e,(p-1)*(q-1))"
   ]
  },
  {
   "cell_type": "code",
   "execution_count": 26,
   "metadata": {},
   "outputs": [],
   "source": [
    "from Crypto.Util.number import bytes_to_long as btl\n",
    "from Crypto.Util.number import bytes_to_long as ltb\n",
    "\n",
    "m_1 = btl(b'Here\\'s my secret message')\n",
    "\n",
    "for n in moduli:\n",
    "    assert pow(m_1,e) > n\n",
    "    \n",
    "ciphertexts = []\n",
    "for n in moduli:\n",
    "    ciphertexts.append(pow(m_1,3,n))"
   ]
  },
  {
   "cell_type": "code",
   "execution_count": 27,
   "metadata": {},
   "outputs": [],
   "source": [
    "from sage.all import *\n",
    "for c in ciphertexts:\n",
    "    try:\n",
    "        val = c.nth_root(3)\n",
    "        print(ltb(val))\n",
    "    except:\n",
    "        pass"
   ]
  },
  {
   "cell_type": "markdown",
   "metadata": {},
   "source": [
    "### Attack\n",
    "In this case we cannot use the cube root of the message, said approach only works in the case that $m^{e} < N$.  \n",
    "\n",
    "So how do obtain the messages?\n",
    "\n",
    "Hastad's Broadcast Attack\n",
    "Since we have 3 messages for a public key of 3 we can use CRT to calculate what $M^{3}$ "
   ]
  },
  {
   "cell_type": "code",
   "execution_count": 24,
   "metadata": {},
   "outputs": [
    {
     "name": "stdout",
     "output_type": "stream",
     "text": [
      "[6816192635244433032171632550443449557145278339704533135253318051343869682485, 29458333613251083477279181027991958647486339164210273946108733843048288771798, 52008835028241149739773168099431219570798566543042976440748722008163085793792]\n",
      "[81432338653519942865405641552095057076423594628943058525534293705394967595179, 71978431351050052696487194220659622019786217862770403524979900613826263964339, 53561730229599407697626373473399340929187312544407455817435153279814343543237]\n"
     ]
    }
   ],
   "source": [
    "print(ciphertexts)\n",
    "print(moduli)"
   ]
  },
  {
   "cell_type": "code",
   "execution_count": 51,
   "metadata": {},
   "outputs": [],
   "source": [
    "x = CRT(ciphertexts,moduli)\n",
    "root = x.nth_root(3)"
   ]
  },
  {
   "cell_type": "code",
   "execution_count": 52,
   "metadata": {},
   "outputs": [
    {
     "data": {
      "text/plain": [
       "b\"Here's my secret message\""
      ]
     },
     "execution_count": 52,
     "metadata": {},
     "output_type": "execute_result"
    }
   ],
   "source": [
    "from Crypto.Util.number import long_to_bytes as ltb\n",
    "ltb(root)"
   ]
  },
  {
   "cell_type": "code",
   "execution_count": null,
   "metadata": {},
   "outputs": [],
   "source": []
  }
 ],
 "metadata": {
  "kernelspec": {
   "display_name": "Python 3",
   "language": "python",
   "name": "python3"
  },
  "language_info": {
   "codemirror_mode": {
    "name": "ipython",
    "version": 3
   },
   "file_extension": ".py",
   "mimetype": "text/x-python",
   "name": "python",
   "nbconvert_exporter": "python",
   "pygments_lexer": "ipython3",
   "version": "3.7.3"
  }
 },
 "nbformat": 4,
 "nbformat_minor": 2
}
