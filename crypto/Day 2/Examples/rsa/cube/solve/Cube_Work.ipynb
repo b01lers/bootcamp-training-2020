{
 "cells": [
  {
   "cell_type": "code",
   "execution_count": 8,
   "metadata": {},
   "outputs": [
    {
     "name": "stdout",
     "output_type": "stream",
     "text": [
      "Can you recover my 4-digit bank PIN\n",
      "N: 119170428052536199686084623672345805508753476936850905665974493349416638717712495763420419753271124267721507942691340688131999669979267193459022760133265203217131634492116730206552115327153974367141476985990818493389201080455399887217781070442373455292488654354625127969851279018090945677152787933477096950697\n",
      "e: 3\n"
     ]
    }
   ],
   "source": [
    "from sage.all import *\n",
    "from Crypto.Util.number import getPrime, bytes_to_long\n",
    "pin = bytes_to_long(b'4321')\n",
    "\n",
    "e = 3\n",
    "while True:\n",
    "    p = getPrime(512)\n",
    "    q = getPrime(512)\n",
    "    phi = (p-1)*(q-1)\n",
    "    try:\n",
    "        d = inverse_mod(e,phi)\n",
    "        break\n",
    "    except:\n",
    "        pass\n",
    "N = p*q\n",
    "print('Can you recover my 4-digit bank PIN')\n",
    "print(f'N: {N}\\ne: {e}')"
   ]
  },
  {
   "cell_type": "code",
   "execution_count": 10,
   "metadata": {},
   "outputs": [
    {
     "name": "stdout",
     "output_type": "stream",
     "text": [
      "C: 671692985052829078281101713\n"
     ]
    }
   ],
   "source": [
    "C = pow(pin,e,N)\n",
    "print(f'C: {C}')"
   ]
  },
  {
   "cell_type": "markdown",
   "metadata": {},
   "source": [
    "## Solution\n",
    "Note: Largest 4-digit bank pin would be \"9999\"\n",
    "\n",
    "Remember: $m^{e} \\equiv C \\; (mod \\; N)$\n",
    "\n",
    "However, consider the case where $m^{e} < N$\n",
    "\n",
    "$\\sqrt[3]{C} = m$"
   ]
  },
  {
   "cell_type": "code",
   "execution_count": 20,
   "metadata": {},
   "outputs": [
    {
     "name": "stdout",
     "output_type": "stream",
     "text": [
      "b'4321'\n"
     ]
    }
   ],
   "source": [
    "from Crypto.Util.number import long_to_bytes\n",
    "assert bytes_to_long(b'9999') < N\n",
    "cube_root = Integer(C).nth_root(3)\n",
    "print(long_to_bytes(cube_root))"
   ]
  },
  {
   "cell_type": "code",
   "execution_count": null,
   "metadata": {},
   "outputs": [],
   "source": []
  },
  {
   "cell_type": "code",
   "execution_count": null,
   "metadata": {},
   "outputs": [],
   "source": []
  }
 ],
 "metadata": {
  "kernelspec": {
   "display_name": "Python 3",
   "language": "python",
   "name": "python3"
  },
  "language_info": {
   "codemirror_mode": {
    "name": "ipython",
    "version": 3
   },
   "file_extension": ".py",
   "mimetype": "text/x-python",
   "name": "python",
   "nbconvert_exporter": "python",
   "pygments_lexer": "ipython3",
   "version": "3.7.3"
  }
 },
 "nbformat": 4,
 "nbformat_minor": 2
}
